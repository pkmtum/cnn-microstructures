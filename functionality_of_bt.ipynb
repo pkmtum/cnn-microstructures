{
  "nbformat": 4,
  "nbformat_minor": 0,
  "metadata": {
    "colab": {
      "provenance": []
    },
    "kernelspec": {
      "name": "python3",
      "display_name": "Python 3"
    },
    "language_info": {
      "name": "python"
    }
  },
  "cells": [
    {
      "cell_type": "markdown",
      "source": [
        "**Notebook showcasing evaluation of data**\n"
      ],
      "metadata": {
        "id": "_-PmrNHaymbs"
      }
    },
    {
      "cell_type": "code",
      "source": [
        "# This is the path to the helper functions folder\n",
        "# On drive for example: '/content/drive/My Drive/myfolder/helper_functions'\n",
        "modules_path = './helper_functions'\n",
        "models_path = './models' # for the models folder\n",
        "\n",
        "# This is the path to the data folder\n",
        "# On drive for example: '/content/drive/myfolder/data'\n",
        "base_path = './data/'\n",
        "\n",
        "# This is the path to the tensorflow checkpoint folder\n",
        "# On drive for example: '/content/drive/MyDrive/best_models'\n",
        "checkpoint_filepath = './best_models'"
      ],
      "metadata": {
        "id": "xEJwm_kWzB9m"
      },
      "execution_count": null,
      "outputs": []
    },
    {
      "cell_type": "code",
      "source": [
        "# pip calls\n",
        "!pip install tensorflow_addons\n",
        "\n",
        "# all the nice imports <3\n",
        "import os\n",
        "import math\n",
        "import tensorflow as tf\n",
        "import tensorflow_addons as tfa\n",
        "import tensorflow_datasets as tfds\n",
        "import matplotlib.pyplot as plt\n",
        "import h5py\n",
        "import numpy as np\n",
        "from datetime import datetime\n",
        "import keras\n",
        "import importlib\n",
        "import pickle\n",
        "\n",
        "# black magic, so that tf.Tensor objects can be used as numpy things\n",
        "# all hail tensorflow 0_0\n",
        "from tensorflow.python.ops.numpy_ops import np_config\n",
        "np_config.enable_numpy_behavior()\n",
        "\n",
        "# show important library versions\n",
        "print(\"TensorFlow version: {}\".format(tf.__version__))\n",
        "print(\"TensorFlow Datasets version: \",tfds.__version__)\n",
        "\n",
        "# import & mount drive\n",
        "from google.colab import drive\n",
        "drive.mount('/content/drive')\n",
        "\n",
        "# hardware speed-up magic (TPU OR GPU?)\n",
        "device_name = tf.test.gpu_device_name()\n",
        "if device_name != '/device:GPU:0':\n",
        "  print('Warning: GPU device not found')\n",
        "else:  \n",
        "  print('Found GPU at: {}'.format(device_name))\n",
        "\n",
        "# Tensorboard stuff (callbacks for logging data)\n",
        "%load_ext tensorboard\n",
        "logdir = \"logs/scalars/\" + datetime.now().strftime(\"%Y%m%d-%H%M%S\")\n",
        "tensorboard_callback = keras.callbacks.TensorBoard(log_dir=logdir)\n",
        "\n",
        "\n",
        "# add custom paths (to import the nice models and helper classes)\n",
        "import sys\n",
        "sys.path.append(models_path)\n",
        "sys.path.append(modules_path)\n",
        "\n",
        "# add custom imports here\n",
        "import processing\n",
        "import metrics\n",
        "import conv_architectures as ca"
      ],
      "metadata": {
        "id": "8PsdNaySkKH2"
      },
      "execution_count": null,
      "outputs": []
    },
    {
      "cell_type": "code",
      "execution_count": null,
      "metadata": {
        "id": "ELmt19WZjyeL"
      },
      "outputs": [],
      "source": [
        "dataset_size = '1000'\n",
        "size = '64' # or 32 or 64\n",
        "n = 64\n",
        "\n",
        "base_path = '/content/drive/MyDrive/Bachelor Thesis/data/'\n",
        "size_path = size + 'x' + size + '/'\n",
        "model_base_path = '/content/drive/MyDrive/Bachelor Thesis/normal_convnets/' + size_path\n",
        "\n",
        "cr_array = np.array(['0.1000', '0.0500', '0.0200', '0.0100', '0.0050', '0.0020'])\n",
        "\n",
        "for cr in cr_array:\n",
        "\n",
        "  data_path = base_path + size_path + 'n=' + size + '_x=' + dataset_size + '_cr=' + cr + '_DS.h5'\n",
        "  tp_data_path = base_path + size_path + 'n=' + size + '_x=' + dataset_size + '_cr=' + cr + '_TP.h5'\n",
        "\n",
        "  \n",
        "  f = h5py.File(data_path, 'r')\n",
        "  imgs = np.array(f['images'])\n",
        "  labs = np.array(f['c_vectors'])\n",
        "  f.close()\n",
        "\n",
        "  dataproc = processing.Processing(\n",
        "          imgs, \n",
        "          labs, \n",
        "          np.array([0.8,0.1,0.1]), \n",
        "          custom_valid = None,\n",
        "          custom_test = None,\n",
        "          batch_size=256, \n",
        "          conv_behavior=True, \n",
        "          scale_labels=False, \n",
        "          symmetric=True, \n",
        "          twopoint=True,\n",
        "          shuffle=False,\n",
        "          pca=False,\n",
        "          # pca_variance=0.7\n",
        "          )\n",
        "  \n",
        "  plt.subplot(1, 2, 1)\n",
        "  plt.imshow(imgs[0].reshape((n,n)))\n",
        "  plt.subplot(1, 2, 2)\n",
        "  plt.imshow(dataproc.images[0].reshape((n,n)))\n",
        "\n",
        "  \n",
        "  hf = h5py.File(tp_data_path, 'w')\n",
        "  hf.create_dataset('twopoint', data=dataproc.images)\n",
        "  hf.close()"
      ]
    },
    {
      "cell_type": "code",
      "source": [
        "cr = '0.0200'\n",
        "dataset_size = '10000'\n",
        "size = '32'\n",
        "base_path = '/content/drive/MyDrive/Bachelor Thesis/data/'\n",
        "size_path = size + 'x' + size + '/'\n",
        "data_path = base_path + size_path + 'n=' + size + '_x=' + dataset_size + '_cr=' + cr + '_DS.h5'\n",
        "tp_data_path = base_path + size_path + 'n=' + size + '_x=' + dataset_size + '_cr=' + cr + '_TP.h5'\n",
        "\n",
        "f = h5py.File(data_path, 'r')\n",
        "imgs = np.array(f['images'])\n",
        "labs = np.array(f['c_vectors'])\n",
        "f.close()\n",
        "\n",
        "tp_f = h5py.File(tp_data_path, 'r')\n",
        "tp_imgs = np.array(tp_f['twopoint'])\n",
        "tp_f.close()\n",
        "\n",
        "dataproc = processing.Processing(\n",
        "        imgs, \n",
        "        labs, \n",
        "        np.array([0.8,0.1,0.1]), \n",
        "        custom_valid = None,\n",
        "        custom_test = None,\n",
        "        batch_size=256, \n",
        "        conv_behavior=True, \n",
        "        scale_labels=False, \n",
        "        symmetric=True, \n",
        "        twopoint=np.False_,\n",
        "        shuffle=False,\n",
        "        pca=False,\n",
        "        # pca_variance=0.7\n",
        "        )"
      ],
      "metadata": {
        "id": "IxPtjnMNkPrd"
      },
      "execution_count": null,
      "outputs": []
    },
    {
      "cell_type": "code",
      "source": [
        "# EXAMPLE OF RESULTS\n",
        "path_to_results = './PROBLEM_FOLDER/32x32/history/all_data_PROBLEM'\n",
        "with open(path_to_results, 'rb') as f:\n",
        "    results = pickle.load(f)"
      ],
      "metadata": {
        "id": "GmEstkuVFGQu"
      },
      "execution_count": null,
      "outputs": []
    },
    {
      "cell_type": "markdown",
      "source": [
        "**Evaluation of Predictions and Print One Image**"
      ],
      "metadata": {
        "id": "eXvAtZg_zk0D"
      }
    },
    {
      "cell_type": "code",
      "source": [
        "model_res = results[0]\n",
        "\n",
        "model_func = model_res['model_function'](dataproc)\n",
        "model_func.load_weights(model_res['path_to_weights'])\n",
        "one_img, one_lab = dataproc.get_one_pair()\n",
        "\n",
        "pred = model_func.predict(one_img.reshape(1,32,32,1))\n",
        "print(\"Showing an image with id: \" + str(int(one_lab[0])))\n",
        "print(dataproc.six_to_nine(np.squeeze(pred)).reshape(3,3))\n",
        "print(dataproc.six_to_nine(one_lab).reshape(3,3))\n",
        "print(one_lab - pred)\n",
        "\n",
        "plt.imshow(one_img.reshape(32,32))\n",
        "plt.axis('off')\n",
        "plt.savefig(\"./img\"+str(int(one_lab[0])), bbox_inches='tight', pad_inches=0, dpi=200)"
      ],
      "metadata": {
        "id": "0dupoOWAFXT4"
      },
      "execution_count": null,
      "outputs": []
    },
    {
      "cell_type": "markdown",
      "source": [
        "**Evaluate variance kept**"
      ],
      "metadata": {
        "id": "8HVu3jkP0sAd"
      }
    },
    {
      "cell_type": "code",
      "source": [
        "# PCA Reduction, function from Stackoverflow\n",
        "def pca_dataset(data, number_dims=None):\n",
        "  \"\"\"\n",
        "  returns: data transformed in 2 dims/columns + regenerated original data\n",
        "  pass in: data as 2D NumPy array\n",
        "  \"\"\"\n",
        "  \n",
        "  m, n = data.shape\n",
        "  # mean center the data\n",
        "  data -= data.mean(axis=0)\n",
        "  # calculate the covariance matrix\n",
        "  R = np.cov(data, rowvar=False)\n",
        "  # calculate eigenvectors & eigenvalues of the covariance matrix\n",
        "  # use 'eigh' rather than 'eig' since R is symmetric, \n",
        "  # the performance gain is substantial\n",
        "  evals, evecs = np.linalg.eigh(R)\n",
        "  # sort eigenvalue in decreasing order\n",
        "  idx = np.argsort(evals)[::-1]\n",
        "  evecs = evecs[:,idx]\n",
        "  # sort eigenvectors according to same index\n",
        "  evals = evals[idx]\n",
        "\n",
        "  if number_dims != None:\n",
        "    red_evecs = evecs[:,:number_dims]\n",
        "    red_evals = evals[:number_dims]\n",
        "\n",
        "  frac_variance = np.sum(red_evals) / np.sum(evals)\n",
        "  # carry out the transformation on the data using eigenvectors\n",
        "  # and return the re-scaled data, eigenvalues, and eigenvectors\n",
        "  return np.dot(red_evecs.T, data.T).T,frac_variance"
      ],
      "metadata": {
        "id": "TCDyrxfMJrqd"
      },
      "execution_count": null,
      "outputs": []
    },
    {
      "cell_type": "code",
      "source": [
        "path_ds16 = './data/' + '16x16/' + 'n=16' + '_x=10000' + '_cr=0.0200' + '_DS.h5'\n",
        "path_ds32 = './data/' + '32x32/' + 'n=32' + '_x=10000' + '_cr=0.0200' + '_DS.h5'\n",
        "\n",
        "f16 = h5py.File(path_ds16, 'r')\n",
        "imgs16 = np.array(f16['images'])\n",
        "f16.close()\n",
        "\n",
        "f32 = h5py.File(path_ds32, 'r')\n",
        "imgs32 = np.array(f32['images'])\n",
        "f32.close()\n",
        "\n",
        "_,frac16 = pca_dataset(imgs16, number_dims=32)\n",
        "_,frac32 = pca_dataset(imgs32, number_dims=128)\n",
        "\n",
        "print(\"16x16 kept: \" + str(frac16) + \" and 32x32 kept: \" + str(frac32) + \" fraction of total variance\")"
      ],
      "metadata": {
        "colab": {
          "base_uri": "https://localhost:8080/"
        },
        "id": "wBU-pf6_I2td",
        "outputId": "88ef7918-1282-4bdb-dda8-edd7f3389d53"
      },
      "execution_count": null,
      "outputs": [
        {
          "output_type": "stream",
          "name": "stdout",
          "text": [
            "16x16 kept: 0.6707733311105334 and 32x32 kept: 0.8556718522320511 fraction of total variance\n"
          ]
        }
      ]
    },
    {
      "cell_type": "markdown",
      "source": [
        "**Formatting functions for model names**"
      ],
      "metadata": {
        "id": "syRfwqgsVlpe"
      }
    },
    {
      "cell_type": "code",
      "source": [
        "def format_2pc(res):\n",
        "  mn = '$'+res['model_name'].upper()[0] + \"$, \"\n",
        "  if res['twopoint']:\n",
        "    mn = mn + \"with 2PC, \"\n",
        "  else:\n",
        "    mn = mn + \"no 2PC, \"\n",
        "  mn = mn + \"$CR = \" + str(int(1 / float(res['contrast_ratio']))) + '$'\n",
        "  return mn\n",
        "\n",
        "def format_autoencoder(res):\n",
        "  mn = \"DS = \" + str(res['ds_size']) + \", 2PC: \" + str(res['twopoint'])\n",
        "  return mn\n",
        "\n",
        "def format_pcaae(res):\n",
        "  name = ''\n",
        "\n",
        "  if res['model_name'] == 'PCA':\n",
        "    name = 'PCA'\n",
        "  elif res['model_name'] == 'frozenE':\n",
        "    name = 'Frozen AE'\n",
        "  elif res['model_name'] == 'freeE':\n",
        "    name = 'Free AE'\n",
        "  else:\n",
        "    name = 'Unknown Model'\n",
        "  mn = name + ', 2PC: ' + str(res['twopoint'])\n",
        "  return mn\n",
        "\n",
        "def formatmisc(res):\n",
        "  return res['model_name']\n",
        "\n",
        "def format_cr(res):\n",
        "  return res['model_name'].upper()[0] + \", $CR = \" + str(int(1 / float(res['contrast_ratio']))) + \"$\"\n",
        "\n",
        "def format_ds(res):\n",
        "  return res['model_name'].upper()[0] + \", DS = \" + str(res['ds_size'])"
      ],
      "metadata": {
        "id": "FsAwwXLC6OJi"
      },
      "execution_count": null,
      "outputs": []
    },
    {
      "cell_type": "markdown",
      "source": [
        "Plot stuff"
      ],
      "metadata": {
        "id": "z_EgufrAVgm8"
      }
    },
    {
      "cell_type": "code",
      "source": [
        "# Example paths\n",
        "path_to_results = './normal_convnets/32x32/history/all_data_DS'\n",
        "path_to_autoencoder = './autoencoders/32x32/history/all_data_AUTOENCODER'\n",
        "path_to_pcaae = './pca_ae/history/all_data_HAM'\n",
        "with open(path_to_pcaae, 'rb') as f:\n",
        "    results = pickle.load(f)\n",
        "\n",
        "length = len(results[0]['history']['val_r_square'])\n",
        "epochs = np.linspace(1,length, num=length)\n",
        "size = '64'\n",
        "\n",
        "for res in results:\n",
        "  print(res['contrast_ratio'])\n",
        "  # mn = format_cr(res)\n",
        "  # mn = format_2pc(res)\n",
        "  # mn = format_autoencoder(res)\n",
        "  # mn = format_pcaae(res)\n",
        "  # mn = format_ds(res)\n",
        "  mn = formatmisc(res)\n",
        "  y = res['history']['val_r_square']\n",
        "  if True:\n",
        "    print(mn, \"&\", np.max(y), '& \\\\\\\\')\n",
        "    plt.plot(epochs,y, label=mn)\n",
        "\n",
        "# plt.legend(loc='right')\n",
        "\n",
        "ax = plt.gca()\n",
        "ax.set_xlim([0, length])\n",
        "ax.set_ylim([0.5,1])\n",
        "ax.set_xlabel(\"Epochs\")\n",
        "ax.set_ylabel(\"$R^2$-Accuracy (\"+size+\"x\"+size+\")\".format())\n",
        "ax.legend(loc='center left', bbox_to_anchor=(1, 0.5), shadow=True, fancybox=True)\n",
        "# ax.legend(loc='center right', shadow=True, fancybox=True)\n",
        "\n",
        "plt.savefig('./ds_size32_all_plot', dpi=200, bbox_inches='tight')\n",
        "\n",
        "plt.show()"
      ],
      "metadata": {
        "colab": {
          "base_uri": "https://localhost:8080/",
          "height": 352
        },
        "id": "AXeeWHL3Y2jp",
        "outputId": "a85e3779-3ad2-491a-9c9a-f08b2e72ee50"
      },
      "execution_count": null,
      "outputs": [
        {
          "output_type": "stream",
          "name": "stdout",
          "text": [
            "0.0100\n",
            "pretrained & 0.5989286303520203 & \\\\\n",
            "0.0100\n",
            "untrained & 0.6047328114509583 & \\\\\n"
          ]
        },
        {
          "output_type": "display_data",
          "data": {
            "text/plain": [
              "<Figure size 432x288 with 1 Axes>"
            ],
            "image/png": "[encoded data removed]"
          },
          "metadata": {
            "needs_background": "light"
          }
        }
      ]
    }
  ]
}