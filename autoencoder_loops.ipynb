{
  "nbformat": 4,
  "nbformat_minor": 0,
  "metadata": {
    "colab": {
      "provenance": [],
      "collapsed_sections": []
    },
    "kernelspec": {
      "name": "python3",
      "display_name": "Python 3"
    },
    "language_info": {
      "name": "python"
    },
    "accelerator": "GPU",
    "gpuClass": "standard"
  },
  "cells": [
    {
      "cell_type": "markdown",
      "source": [
        "**Notebook for training several Autoencoders with different configurations**"
      ],
      "metadata": {
        "id": "HuywIGuPavZS"
      }
    },
    {
      "cell_type": "markdown",
      "source": [
        "# Set Up"
      ],
      "metadata": {
        "id": "nDkBtjUvatj6"
      }
    },
    {
      "cell_type": "code",
      "source": [
        "# This is the path to the helper functions folder\n",
        "# On drive for example: '/content/drive/My Drive/myfolder/helper_functions'\n",
        "modules_path = './helper_functions'\n",
        "models_path = './models' # for the models folder\n",
        "\n",
        "# This is the path to the data folder\n",
        "# On drive for example: '/content/drive/myfolder/data'\n",
        "base_path = './data/'\n",
        "\n",
        "# This is the path to the tensorflow checkpoint folder\n",
        "# On drive for example: '/content/drive/MyDrive/best_models'\n",
        "checkpoint_filepath = './best_models'"
      ],
      "metadata": {
        "id": "vlzH9syEas6z"
      },
      "execution_count": null,
      "outputs": []
    },
    {
      "cell_type": "code",
      "execution_count": null,
      "metadata": {
        "id": "NcxETSaMsUcQ"
      },
      "outputs": [],
      "source": [
        "# pip calls\n",
        "!pip install tensorflow_addons\n",
        "\n",
        "# all the nice imports <3\n",
        "import os\n",
        "import tensorflow as tf\n",
        "import tensorflow_addons as tfa\n",
        "import tensorflow_datasets as tfds\n",
        "import matplotlib.pyplot as plt\n",
        "import h5py\n",
        "import numpy as np\n",
        "from datetime import datetime\n",
        "import keras\n",
        "import importlib\n",
        "import pickle\n",
        "\n",
        "# black magic, so that tf.Tensor objects can be used as numpy things\n",
        "# all hail tensorflow 0_0\n",
        "from tensorflow.python.ops.numpy_ops import np_config\n",
        "np_config.enable_numpy_behavior()\n",
        "\n",
        "# show important library versions\n",
        "print(\"TensorFlow version: {}\".format(tf.__version__))\n",
        "print(\"TensorFlow Datasets version: \",tfds.__version__)\n",
        "\n",
        "\n",
        "# add custom paths (to import the nice models and helper classes)\n",
        "import sys\n",
        "sys.path.append(models_path)\n",
        "sys.path.append(modules_path)\n",
        "\n",
        "# add custom imports here\n",
        "import processing\n",
        "import metrics\n",
        "import autoencoder_models as am"
      ]
    },
    {
      "cell_type": "markdown",
      "source": [
        "# Very specific Colab things"
      ],
      "metadata": {
        "id": "CBQgnp-FbMRi"
      }
    },
    {
      "cell_type": "code",
      "source": [
        "# import & mount drive\n",
        "from google.colab import drive\n",
        "drive.mount('/content/drive')\n",
        "\n",
        "# hardware speed-up magic (TPU OR GPU?)\n",
        "device_name = tf.test.gpu_device_name()\n",
        "if device_name != '/device:GPU:0':\n",
        "  print('Warning: GPU device not found')\n",
        "else:  \n",
        "  print('Found GPU at: {}'.format(device_name))\n",
        "\n",
        "# Tensorboard stuff (callbacks for logging data)\n",
        "%load_ext tensorboard\n",
        "logdir = \"logs/scalars/\" + datetime.now().strftime(\"%Y%m%d-%H%M%S\")\n",
        "tensorboard_callback = keras.callbacks.TensorBoard(log_dir=logdir)"
      ],
      "metadata": {
        "id": "iKpZ6nvFbL6m"
      },
      "execution_count": null,
      "outputs": []
    },
    {
      "cell_type": "markdown",
      "source": [
        "# Compile different contrast ratio data sets into one"
      ],
      "metadata": {
        "id": "5VGPpv-vvstt"
      }
    },
    {
      "cell_type": "code",
      "source": [
        "# COMPLIE DIFFERENT DS INTO ONE\n",
        "# n=16_x=10000_cr=0.0020_DS.h5\n",
        "dataset_size = '1000'\n",
        "size = '64' # or 32 or 64\n",
        "\n",
        "cr = np.array(['0.1000', '0.0500', '0.0200', '0.0100', '0.0050', '0.0020'])\n",
        "\n",
        "size_path = size + 'x' + size + '/'\n",
        "paths = []\n",
        "tp_paths = []\n",
        "\n",
        "images = []\n",
        "labels = []\n",
        "\n",
        "for i in range(0, cr.shape[0]):\n",
        "  paths.append(base_path + size_path + 'n=' + size + '_x=' + dataset_size + '_cr=' + cr[i] + '_DS.h5')\n",
        "  tp_paths.append(base_path + size_path + 'n=' + size + '_x=' + dataset_size + '_cr=' + cr[i] + '_TP.h5')\n",
        "\n",
        "  f = h5py.File(paths[i], 'r')\n",
        "  tp_f = h5py.File(tp_paths[i], 'r')\n",
        "\n",
        "  imgs = np.array(f['images'])\n",
        "  labs = np.array(f['c_vectors'])\n",
        "  tp_imgs = np.array(tp_f['twopoint'])\n",
        "\n",
        "  f.close()\n",
        "\n",
        "  if len(images) == 0:\n",
        "    images = imgs\n",
        "    labels = labs\n",
        "    tp_images = tp_imgs\n",
        "  else:\n",
        "    images = np.append(images, imgs, axis=0)\n",
        "    labels = np.append(labels, labs, axis=0)\n",
        "\n",
        "    tp_images = np.append(tp_images, tp_imgs, axis=0)\n",
        "\n",
        "  \n",
        "\n",
        "print(\"Created image array of shape: \", images.shape)\n",
        "print(\"Created label array of shape: \", labels.shape)\n",
        "print(\"Created TP image array of shape: \", tp_images.shape)"
      ],
      "metadata": {
        "colab": {
          "base_uri": "https://localhost:8080/"
        },
        "id": "8cYw0dqvvFX_",
        "outputId": "a64e6d16-aac0-4e60-c276-8e21b58a2947"
      },
      "execution_count": null,
      "outputs": [
        {
          "output_type": "stream",
          "name": "stdout",
          "text": [
            "Created image array of shape:  (6000, 4096)\n",
            "Created label array of shape:  (6000, 9)\n",
            "Created TP image array of shape:  (6000, 4096)\n"
          ]
        }
      ]
    },
    {
      "cell_type": "markdown",
      "source": [
        "# Old set up code\n",
        "Compile or get two-point correlation images, by computing 2-point correlations"
      ],
      "metadata": {
        "id": "pe-Rubrdv137"
      }
    },
    {
      "cell_type": "code",
      "source": [
        "RECOMPUTE_TP = False\n",
        "if RECOMPUTE_TP:\n",
        "\n",
        "  importlib.reload(processing)\n",
        "  dataproc = processing.Processing(\n",
        "      images, \n",
        "      labels, \n",
        "      np.array([0.8, 0.1, 0.1]), \n",
        "      batch_size=256, \n",
        "      conv_behavior=True, \n",
        "      scale_labels=False, \n",
        "      symmetric=True, \n",
        "      twopoint=True,\n",
        "      shuffle=False,\n",
        "      pca=False,\n",
        "      # pca_variance=0.7\n",
        "      )\n",
        "\n",
        "  tp_images = dataproc.images\n",
        "\n",
        "  f = h5py.File(base_path+size_path+'imgs_twopoint_'+size+'.h5', 'w')\n",
        "  f.create_dataset('twopoint', data=tp_images)\n",
        "  f.close()\n",
        "\n",
        "else:\n",
        "  f = h5py.File(base_path+size_path+'imgs_twopoint_'+size+'.h5', 'r')\n",
        "  tp_images = np.array(f['twopoint'])"
      ],
      "metadata": {
        "id": "5fOurZQi9JNX"
      },
      "execution_count": null,
      "outputs": []
    },
    {
      "cell_type": "markdown",
      "source": [
        "# Set Up of Code\n",
        "1. Size of test set\n",
        "1. problem and problem folder\n",
        "1. size of images"
      ],
      "metadata": {
        "id": "8cmdez3txC7c"
      }
    },
    {
      "cell_type": "code",
      "source": [
        "# 1.\n",
        "TEST_SIZE = 1000\n",
        "EPOCHS = 1000\n",
        "\n",
        "# 2.\n",
        "PROBLEM = 'AUTO64'\n",
        "PROBLEM_FOLDER = 'autoencoders'\n",
        "\n",
        "# 3.\n",
        "sample_size = 64\n",
        "\n",
        "\n",
        "size = str(sample_size)\n",
        "size_path = size + 'x' + size + '/'\n",
        "model_base_path = './'+ PROBLEM_FOLDER + '/' + size_path"
      ],
      "metadata": {
        "id": "4Kvsj1AqKnbM"
      },
      "execution_count": null,
      "outputs": []
    },
    {
      "cell_type": "markdown",
      "source": [
        "# Execution of Code"
      ],
      "metadata": {
        "id": "MkHd-eY5xfNs"
      }
    },
    {
      "cell_type": "code",
      "source": [
        "results_array = []\n",
        "FILENAME = 'all_data_' + PROBLEM\n",
        "SPLITS = np.array([0.9, 0.1, 0])\n",
        "\n",
        "counter = 0\n",
        "\n",
        "ds_size_array = [5000]\n",
        "twopoint_array = [False]\n",
        "\n",
        "\n",
        "for ds in ds_size_array:\n",
        "  for tp in twopoint_array:\n",
        "\n",
        "    counter += 1\n",
        "    print(\"Currently working on model No.\", counter)\n",
        "\n",
        "    imgs = images\n",
        "    labs = labels\n",
        "    if tp:\n",
        "      imgs = tp_images\n",
        "    \n",
        "    print(imgs.shape)\n",
        "\n",
        "    dataproc = processing.Processing(\n",
        "      imgs[:ds], \n",
        "      labs[:ds], \n",
        "      SPLITS, \n",
        "      custom_test = (imgs[-TEST_SIZE:], labs[-TEST_SIZE:]),\n",
        "      batch_size=256, \n",
        "      conv_behavior=True, \n",
        "      scale_labels=False, \n",
        "      symmetric=True, \n",
        "      twopoint=False,\n",
        "      shuffle=False,\n",
        "      pca=False,\n",
        "      # pca_variance=0.7\n",
        "      )\n",
        "    print(dataproc.splits[0])\n",
        "    \n",
        "    encoder = am.create_enc_spec(inputshape=(sample_size,sample_size,1))\n",
        "    decoder = am.create_dec_spec(inputshape=(8,8,4))\n",
        "    autoencoder = am.ConvAuto(encoder, decoder)\n",
        "    print(autoencoder.summary())\n",
        "\n",
        "    \n",
        "    model_checkpoint_callback = tf.keras.callbacks.ModelCheckpoint(\n",
        "        filepath=checkpoint_filepath,\n",
        "        save_weights_only=True,\n",
        "        monitor='val_r_square',\n",
        "        mode='max',\n",
        "        save_best_only=True)\n",
        "\n",
        "\n",
        "    train_data, val_data, test_data = dataproc.datasets_auto\n",
        "\n",
        "    params = {\n",
        "        'x' : train_data,\n",
        "        'batch_size' : dataproc.batch_size, \n",
        "        'epochs' : EPOCHS, \n",
        "        'validation_data' : val_data,\n",
        "        'verbose' : 1, \n",
        "        'callbacks' : [tensorboard_callback, model_checkpoint_callback]\n",
        "    }\n",
        "\n",
        "    autoencoder.compile(optimizer=\"Adam\", loss=\"mse\", metrics=tfa.metrics.RSquare())\n",
        "    history = autoencoder.fit(**params)\n",
        "\n",
        "    autoencoder.load_weights(checkpoint_filepath)\n",
        "\n",
        "    test_metrics = autoencoder.evaluate(test_data)\n",
        "\n",
        "    custom_path = PROBLEM + '_ds' + str(dataproc.splits[0]) + '_tp' + str(tp) + '_epochs' + str(params['epochs'])\n",
        "    total_path = model_base_path + custom_path\n",
        "    encoder.save(total_path)\n",
        "\n",
        "\n",
        "    results_array.append(\n",
        "        {\n",
        "            'run_name' : custom_path,\n",
        "            'model_name' : 'autoencoder',\n",
        "            'regularization' : 0,\n",
        "            'ds_size' : dataproc.splits[0],\n",
        "            'twopoint' : tp,\n",
        "            'contrast_ratio' : cr,\n",
        "            'epochs' : params['epochs'],\n",
        "            'history' : history.history,\n",
        "            'test_metrics' : test_metrics,\n",
        "            'model_function' : am.ConvAuto,\n",
        "            'path_to_weights' : total_path,\n",
        "        }\n",
        "    )\n",
        "\n",
        "\n",
        "with open(model_base_path + 'history/' + FILENAME, 'wb') as file_pi:\n",
        "  pickle.dump(results_array, file_pi)"
      ],
      "metadata": {
        "id": "qTQHFlh0I0zv"
      },
      "execution_count": null,
      "outputs": []
    },
    {
      "cell_type": "code",
      "source": [
        "%tensorboard --logdir logs/scalars"
      ],
      "metadata": {
        "id": "HlUIrcfyGA3G"
      },
      "execution_count": null,
      "outputs": []
    },
    {
      "cell_type": "markdown",
      "source": [
        "# Example of reconstruction evaluation"
      ],
      "metadata": {
        "id": "iFl7f_v3x-C1"
      }
    },
    {
      "cell_type": "code",
      "source": [
        "index = 0\n",
        "original = imgs[index].reshape(1,32,32,1)\n",
        "\n",
        "pred = autoencoder(original)\n",
        "\n",
        "plt.subplot(1,2,1)\n",
        "plt.imshow(np.squeeze(original))\n",
        "plt.axis('off')\n",
        "\n",
        "plt.subplot(1,2,2)\n",
        "plt.imshow(np.squeeze(pred))\n",
        "plt.axis('off')\n",
        "\n",
        "plt.savefig('./autoencoder32_pred2pc'+str(index), pad_inches=0, dpi=200)"
      ],
      "metadata": {
        "id": "dSXVpLZrHXuu",
        "colab": {
          "base_uri": "https://localhost:8080/",
          "height": 200
        },
        "outputId": "3897780a-83d9-4913-aa55-a2ee578fe32d"
      },
      "execution_count": null,
      "outputs": [
        {
          "output_type": "stream",
          "name": "stdout",
          "text": [
            "(1, 32, 32, 1)\n"
          ]
        },
        {
          "output_type": "display_data",
          "data": {
            "text/plain": [
              "<Figure size 432x288 with 2 Axes>"
            ],
            "image/png": "[encoded data removed]"
          },
          "metadata": {
            "needs_background": "light"
          }
        }
      ]
    }
  ]
}